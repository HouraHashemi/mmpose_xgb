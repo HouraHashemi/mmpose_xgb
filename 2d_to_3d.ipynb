{
 "cells": [
  {
   "cell_type": "code",
   "execution_count": null,
   "metadata": {},
   "outputs": [],
   "source": [
    "import cv2\n",
    "from ultralytics import YOLO\n",
    "import pandas as pd"
   ]
  },
  {
   "cell_type": "code",
   "execution_count": null,
   "metadata": {},
   "outputs": [],
   "source": [
    "\n",
    "def extracting_images(destination_directory, video_path):\n",
    "\n",
    "    cap = cv2.VideoCapture(video_path)\n",
    "\n",
    "    i = 0\n",
    "    while (cap.isOpened()):\n",
    "        flag, frame = cap.read()\n",
    "\n",
    "        if flag == False:\n",
    "            break\n",
    "\n",
    "        image_path = f'{destination_directory}img_{i}.jpg'\n",
    "        cv2.imwrite(image_path, frame)\n",
    "        i += 1\n",
    "    cap.release()"
   ]
  },
  {
   "cell_type": "code",
   "execution_count": null,
   "metadata": {},
   "outputs": [],
   "source": [
    "# from mmpose.mmpose.apis.pred_pose_2d_to_3d import get_3d_prediction\n",
    "# import cv2\n",
    "\n",
    "\n",
    "# frame = cv2.imread('/home/apdp/3D/VideoPose3DwithDetectron2/detectron2/detectron2-infer/videos/test5.jpg')\n",
    "# print(frame)\n",
    "# results = get_3d_prediction(frame, pose3d='human3d')\n",
    "# print(results)"
   ]
  },
  {
   "cell_type": "code",
   "execution_count": null,
   "metadata": {},
   "outputs": [],
   "source": [
    "import subprocess\n",
    "\n",
    "# command = [\n",
    "#     'python', 'demo/inferencer_demo.py', '/videos/pick.mp4',\n",
    "#     '--pose3d', 'human3d', '--vis-out-dir', 'vis_results/human3d',\n",
    "# ]\n",
    "\n",
    "# command = [\n",
    "#     'python', 'demo/inferencer_demo.py', '/videos/test5.jpg',\n",
    "#     '--pose3d', 'human3d', \n",
    "# ]\n",
    "\n",
    "command = [\n",
    "    'python', 'mmpose/apis/pred_xgb_2d_to_3d.py', '--pose3d', 'human3d', \n",
    "]\n",
    "\n",
    "subprocess.run(command)\n",
    "\n"
   ]
  }
 ],
 "metadata": {
  "kernelspec": {
   "display_name": "conda_env",
   "language": "python",
   "name": "python3"
  },
  "language_info": {
   "codemirror_mode": {
    "name": "ipython",
    "version": 3
   },
   "file_extension": ".py",
   "mimetype": "text/x-python",
   "name": "python",
   "nbconvert_exporter": "python",
   "pygments_lexer": "ipython3",
   "version": "3.10.13"
  }
 },
 "nbformat": 4,
 "nbformat_minor": 2
}
